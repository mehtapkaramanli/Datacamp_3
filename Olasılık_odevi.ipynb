{
 "cells": [
  {
   "cell_type": "markdown",
   "metadata": {},
   "source": [
    "ödev çözümü"
   ]
  },
  {
   "cell_type": "code",
   "execution_count": 21,
   "metadata": {},
   "outputs": [],
   "source": [
    "import pandas as pd\n",
    "import numpy as np\n",
    "import matplotlib.pyplot as plt; plt.rcdefaults()\n",
    "import warnings\n",
    "warnings.filterwarnings('ignore')\n",
    "#new_index=['A','B','C']\n",
    "#P = pd.DataFrame(index=new_index)"
   ]
  },
  {
   "cell_type": "code",
   "execution_count": 28,
   "metadata": {},
   "outputs": [
    {
     "data": {
      "text/html": [
       "<div>\n",
       "<style scoped>\n",
       "    .dataframe tbody tr th:only-of-type {\n",
       "        vertical-align: middle;\n",
       "    }\n",
       "\n",
       "    .dataframe tbody tr th {\n",
       "        vertical-align: top;\n",
       "    }\n",
       "\n",
       "    .dataframe thead th {\n",
       "        text-align: right;\n",
       "    }\n",
       "</style>\n",
       "<table border=\"1\" class=\"dataframe\">\n",
       "  <thead>\n",
       "    <tr style=\"text-align: right;\">\n",
       "      <th></th>\n",
       "      <th>Bozuk_oran</th>\n",
       "      <th>Saglam_oran</th>\n",
       "      <th>Toplamdaki_oran</th>\n",
       "    </tr>\n",
       "  </thead>\n",
       "  <tbody>\n",
       "    <tr>\n",
       "      <th>A</th>\n",
       "      <td>0.015</td>\n",
       "      <td>0.985</td>\n",
       "      <td>0.4</td>\n",
       "    </tr>\n",
       "    <tr>\n",
       "      <th>B</th>\n",
       "      <td>0.020</td>\n",
       "      <td>0.980</td>\n",
       "      <td>0.4</td>\n",
       "    </tr>\n",
       "    <tr>\n",
       "      <th>C</th>\n",
       "      <td>0.010</td>\n",
       "      <td>0.990</td>\n",
       "      <td>0.2</td>\n",
       "    </tr>\n",
       "  </tbody>\n",
       "</table>\n",
       "</div>"
      ],
      "text/plain": [
       "   Bozuk_oran  Saglam_oran  Toplamdaki_oran\n",
       "A       0.015        0.985              0.4\n",
       "B       0.020        0.980              0.4\n",
       "C       0.010        0.990              0.2"
      ]
     },
     "execution_count": 28,
     "metadata": {},
     "output_type": "execute_result"
    }
   ],
   "source": [
    "\n",
    "P = pd.DataFrame({'Bozuk_oran': [0.015,0.020,0.010],'Saglam_oran': [0.985,0.980,0.990],'Toplamdaki_oran': [0.40,0.40,0.20]},index=['A','B','C'])\n",
    "P"
   ]
  },
  {
   "cell_type": "code",
   "execution_count": 34,
   "metadata": {},
   "outputs": [
    {
     "name": "stdout",
     "output_type": "stream",
     "text": [
      "   Bozuk_oran  Saglam_oran  Toplamdaki_oran  Toplamdaki_bozuk\n",
      "A       0.015        0.985              0.4             0.006\n",
      "B       0.020        0.980              0.4             0.008\n",
      "C       0.010        0.990              0.2             0.002\n"
     ]
    },
    {
     "data": {
      "text/plain": [
       "0.5"
      ]
     },
     "execution_count": 34,
     "metadata": {},
     "output_type": "execute_result"
    }
   ],
   "source": [
    "#P(D)=P(D|A)+P(D|B)+P(D|C)\n",
    "P['Toplamdaki_bozuk']=P['Bozuk_oran']*P['Toplamdaki_oran']\n",
    "print(P)\n",
    "P['Toplamdaki_bozuk'].sum()\n",
    "#P(B)\n",
    "P['Toplamdaki_oran']['B']\n",
    "#P(D|B)\n",
    "P['Bozuk_oran']['B']\n",
    "#P(B|D)=(P(B)*P(D|B))/P(D)\n",
    "(P['Bozuk_oran']['B']*P['Toplamdaki_oran']['B'])/P['Toplamdaki_bozuk'].sum()\n"
   ]
  },
  {
   "cell_type": "code",
   "execution_count": null,
   "metadata": {},
   "outputs": [],
   "source": []
  }
 ],
 "metadata": {
  "kernelspec": {
   "display_name": "Python 3",
   "language": "python",
   "name": "python3"
  },
  "language_info": {
   "codemirror_mode": {
    "name": "ipython",
    "version": 3
   },
   "file_extension": ".py",
   "mimetype": "text/x-python",
   "name": "python",
   "nbconvert_exporter": "python",
   "pygments_lexer": "ipython3",
   "version": "3.7.1"
  }
 },
 "nbformat": 4,
 "nbformat_minor": 2
}
